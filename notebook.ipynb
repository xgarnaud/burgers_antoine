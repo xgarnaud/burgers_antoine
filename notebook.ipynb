{
 "cells": [
  {
   "cell_type": "markdown",
   "metadata": {},
   "source": [
    "# Burgers 2D\n",
    "\n",
    "## PDE\n",
    "\n",
    "$$ \\frac{\\partial u}{\\partial t} + \\nabla\\cdot F(u) = 0$$\n",
    "\n",
    "i.e.\n",
    "$$ \\frac{\\partial u}{\\partial t} + \\frac{\\partial F_j(u)}{\\partial x_j} = 0$$\n",
    "with\n",
    "$$F(u_x, u_y) = 1/2 (u_x u, u_y u)$$\n",
    "\n",
    "Quasi linear form:\n",
    "$$ \\frac{\\partial u}{\\partial t} + A_x(u)\\frac{\\partial u}{\\partial x}+ A_y( u)\\frac{\\partial  u}{\\partial y} = 0"
   ]
  },
  {
   "cell_type": "code",
   "execution_count": null,
   "metadata": {},
   "outputs": [
    {
     "data": {
      "text/latex": [
       "$\\displaystyle \\left[\\begin{matrix}\\frac{u_{x}^{2}}{2}\\\\\\frac{u_{x} u_{y}}{2}\\end{matrix}\\right]$"
      ],
      "text/plain": [
       "Matrix([\n",
       "[ u_x**2/2],\n",
       "[u_x*u_y/2]])"
      ]
     },
     "execution_count": 16,
     "metadata": {},
     "output_type": "execute_result"
    }
   ],
   "source": [
    "from sympy import symbols, Matrix, diff\n",
    "\n",
    "ux, uy = symbols(\"u_x u_y\")\n",
    "\n",
    "F_x = Matrix([ux * ux / 2, ux * uy / 2])\n",
    "F_x"
   ]
  },
  {
   "cell_type": "code",
   "execution_count": 17,
   "metadata": {},
   "outputs": [
    {
     "data": {
      "text/latex": [
       "$\\displaystyle \\left[\\begin{matrix}u_{x} & 0\\\\\\frac{u_{y}}{2} & \\frac{u_{x}}{2}\\end{matrix}\\right]$"
      ],
      "text/plain": [
       "Matrix([\n",
       "[  u_x,     0],\n",
       "[u_y/2, u_x/2]])"
      ]
     },
     "execution_count": 17,
     "metadata": {},
     "output_type": "execute_result"
    }
   ],
   "source": [
    "A_x = Matrix.hstack(diff(F_x, ux), diff(F_x, uy))\n",
    "A_x"
   ]
  },
  {
   "cell_type": "markdown",
   "metadata": {},
   "source": []
  },
  {
   "cell_type": "code",
   "execution_count": 18,
   "metadata": {},
   "outputs": [
    {
     "data": {
      "text/plain": [
       "[(u_x/2,\n",
       "  1,\n",
       "  [Matrix([\n",
       "   [0],\n",
       "   [1]])]),\n",
       " (u_x,\n",
       "  1,\n",
       "  [Matrix([\n",
       "   [u_x/u_y],\n",
       "   [      1]])])]"
      ]
     },
     "execution_count": 18,
     "metadata": {},
     "output_type": "execute_result"
    }
   ],
   "source": [
    "A_x.eigenvects()"
   ]
  },
  {
   "cell_type": "code",
   "execution_count": 19,
   "metadata": {},
   "outputs": [
    {
     "data": {
      "text/plain": [
       "[(u_y/2,\n",
       "  1,\n",
       "  [Matrix([\n",
       "   [1],\n",
       "   [0]])]),\n",
       " (u_y,\n",
       "  1,\n",
       "  [Matrix([\n",
       "   [u_x/u_y],\n",
       "   [      1]])])]"
      ]
     },
     "execution_count": 19,
     "metadata": {},
     "output_type": "execute_result"
    }
   ],
   "source": [
    "F_y = Matrix([ux * uy / 2, uy * uy / 2])\n",
    "A_y = Matrix.hstack(diff(F_y, ux), diff(F_y, uy))\n",
    "A_y.eigenvects()"
   ]
  },
  {
   "cell_type": "code",
   "execution_count": null,
   "metadata": {},
   "outputs": [
    {
     "data": {
      "text/plain": [
       "[(alpha*u_y/2 + u_x/2,\n",
       "  1,\n",
       "  [Matrix([\n",
       "   [-alpha],\n",
       "   [     1]])]),\n",
       " (alpha*u_y + u_x,\n",
       "  1,\n",
       "  [Matrix([\n",
       "   [u_x/u_y],\n",
       "   [      1]])])]"
      ]
     },
     "execution_count": 20,
     "metadata": {},
     "output_type": "execute_result"
    }
   ],
   "source": [
    "alpha = symbols(\"alpha\")\n",
    "A = A_x + alpha * A_y\n",
    "A.eigenvects()"
   ]
  },
  {
   "cell_type": "code",
   "execution_count": null,
   "metadata": {},
   "outputs": [],
   "source": []
  },
  {
   "cell_type": "code",
   "execution_count": null,
   "metadata": {},
   "outputs": [],
   "source": []
  }
 ],
 "metadata": {
  "kernelspec": {
   "display_name": "tucanos",
   "language": "python",
   "name": "python3"
  },
  "language_info": {
   "codemirror_mode": {
    "name": "ipython",
    "version": 3
   },
   "file_extension": ".py",
   "mimetype": "text/x-python",
   "name": "python",
   "nbconvert_exporter": "python",
   "pygments_lexer": "ipython3",
   "version": "3.10.14"
  }
 },
 "nbformat": 4,
 "nbformat_minor": 2
}
